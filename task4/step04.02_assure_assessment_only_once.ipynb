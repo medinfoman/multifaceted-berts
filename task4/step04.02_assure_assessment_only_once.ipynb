{
 "cells": [
  {
   "cell_type": "markdown",
   "id": "61e9d6ff",
   "metadata": {},
   "source": [
    "# assessment once only\n",
    "\n",
    "- Assessment section must appear only once in the sample to make one start position and one end position\n",
    "- Task 4 and 5 finetuned to find start, and end position of assessment section\n",
    "- Assessment section should appear only once in one visited document, but sometimes the same assessment is written twice, so this code was written to filter it out."
   ]
  },
  {
   "cell_type": "code",
   "execution_count": null,
   "id": "66a88228",
   "metadata": {},
   "outputs": [],
   "source": [
    "import glob"
   ]
  },
  {
   "cell_type": "markdown",
   "id": "68b9c834",
   "metadata": {},
   "source": [
    "### section names"
   ]
  },
  {
   "cell_type": "code",
   "execution_count": null,
   "id": "c6dc5aac",
   "metadata": {},
   "outputs": [],
   "source": [
    "section_types_paths = [\"./data/02_type_to_file_links/sections_visits_2011to2020_task4.txt\"]\n",
    "\n",
    "section_types = {}\n",
    "for i in range(len(section_types_paths)):\n",
    "    section_types_path = section_types_paths[i]\n",
    "    file = open(section_types_path, \"r\")\n",
    "    lines = file.readlines()\n",
    "    for l in range(len(lines)):\n",
    "        if lines[l]==\"\\n\":\n",
    "            continue\n",
    "        doctype = lines[l].split(\"\\t\")[0].strip(\"\\n\")\n",
    "        section = lines[l].split(\"\\t\")[1].strip(\"\\n\")    \n",
    "        key = doctype+\"\\t\"+section\n",
    "\n",
    "        val = lines[l].split(\"\\t\")[2].strip(\"\\n\")\n",
    "        \n",
    "        if \"assessment\" in val.lower():\n",
    "            section_types[key] = \"assessment\"\n",
    "        else:\n",
    "            section_types[key] = \"else\"\n",
    "                \n",
    "    file.close()\n",
    "# print(section_types)\n"
   ]
  },
  {
   "cell_type": "code",
   "execution_count": null,
   "id": "c0b460ef",
   "metadata": {},
   "outputs": [],
   "source": [
    "datapaths   = [\"./data/04_sampled/train/*.txt\", \"./data/04_sampled/test/*.txt\"]\n",
    "output_path = [\"./data/05_sampled/train\", \"./data/05_sampled/test\"]"
   ]
  },
  {
   "cell_type": "code",
   "execution_count": null,
   "id": "9bfa72bb",
   "metadata": {},
   "outputs": [],
   "source": [
    "def assessment_only_one(filepath):\n",
    "    file = open(filepath, \"r\")\n",
    "    lines = file.readlines()\n",
    "    file.close()\n",
    "    \n",
    "    documents = {}\n",
    "    \n",
    "    doc_id_last = \"\"\n",
    "    \n",
    "    # split documents\n",
    "    stacked = []\n",
    "    for l in range(len(lines)):\n",
    "        line = lines[l].strip(\"\\n\")\n",
    "        \n",
    "        doc_id = line.split(\"\\t\")[0]\n",
    "        if doc_id_last!=doc_id and l!=0:\n",
    "            documents[doc_id_last] = stacked\n",
    "            stacked = []\n",
    "        \n",
    "        stacked.append(line)\n",
    "        doc_id_last = doc_id\n",
    "    \n",
    "    if len(stacked)>0:\n",
    "        documents[doc_id_last] = stacked\n",
    "        stacked = []\n",
    "    \n",
    "    \n",
    "    # assessment\n",
    "    new_documents = []\n",
    "    for key in documents:\n",
    "        document = documents[key]\n",
    "        \n",
    "        # asessment 가 등장하지 않은 문서는 모두 제거한다\n",
    "        assessment_flag = False\n",
    "        for d in range(len(document)):\n",
    "            doc_id = document[d].split(\"\\t\")[0]\n",
    "            sent_id = document[d].split(\"\\t\")[1]\n",
    "            doctype = document[d].split(\"\\t\")[2]\n",
    "            section = document[d].split(\"\\t\")[3]\n",
    "            content = document[d].split(\"\\t\")[4]\n",
    "            label = section_types[doctype+\"\\t\"+section]\n",
    "            if label==\"assessment\":\n",
    "                assessment_flag=True\n",
    "                break\n",
    "        # 해당 문서 제거\n",
    "        if assessment_flag==False:\n",
    "            continue\n",
    "            \n",
    "        assessment_flag = False\n",
    "        label_last = \"\"\n",
    "        for d in range(len(document)):\n",
    "            doc_id = document[d].split(\"\\t\")[0]\n",
    "            sent_id = document[d].split(\"\\t\")[1]\n",
    "            doctype = document[d].split(\"\\t\")[2]\n",
    "            section = document[d].split(\"\\t\")[3]\n",
    "            content = document[d].split(\"\\t\")[4]\n",
    "            \n",
    "            label = section_types[doctype+\"\\t\"+section]\n",
    "#             print(\"label: \", label)\n",
    "            \n",
    "            if label==\"assessment\" and label_last==\"else\":\n",
    "                if assessment_flag==True:\n",
    "                    break\n",
    "            \n",
    "            if label==\"assessment\":\n",
    "                assessment_flag=True\n",
    "            \n",
    "            new_documents.append(document[d])\n",
    "            \n",
    "            label_last = label\n",
    "\n",
    "    return new_documents"
   ]
  },
  {
   "cell_type": "code",
   "execution_count": null,
   "id": "14903389",
   "metadata": {},
   "outputs": [],
   "source": [
    "import os\n",
    "\n",
    "for d in range(len(datapaths)):\n",
    "    filepaths = glob.glob(datapaths[d])\n",
    "    filepaths.sort()\n",
    "    \n",
    "    if not os.path.exists(output_path[d]):\n",
    "        os.makedirs(output_path[d])\n",
    "    \n",
    "    for f in range(len(filepaths)):\n",
    "        filename = filepaths[f].split(\"/\")[-1]\n",
    "        print(\"filename: \", filename)\n",
    "        new_documents = assessment_only_one(filepaths[f])\n",
    "        if len(new_documents)>0:\n",
    "            file = open(output_path[d]+\"/\"+filename, \"w\")\n",
    "            file.write(\"\\n\".join(new_documents))\n",
    "            file.close()\n"
   ]
  },
  {
   "cell_type": "code",
   "execution_count": null,
   "id": "b670788e",
   "metadata": {},
   "outputs": [],
   "source": []
  },
  {
   "cell_type": "code",
   "execution_count": null,
   "id": "0483eb78",
   "metadata": {},
   "outputs": [],
   "source": []
  }
 ],
 "metadata": {
  "kernelspec": {
   "display_name": "multibert",
   "language": "python",
   "name": "multibert"
  },
  "language_info": {
   "codemirror_mode": {
    "name": "ipython",
    "version": 3
   },
   "file_extension": ".py",
   "mimetype": "text/x-python",
   "name": "python",
   "nbconvert_exporter": "python",
   "pygments_lexer": "ipython3",
   "version": "3.8.18"
  }
 },
 "nbformat": 4,
 "nbformat_minor": 5
}
