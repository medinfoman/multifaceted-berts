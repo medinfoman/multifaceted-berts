{
 "cells": [
  {
   "cell_type": "markdown",
   "id": "1ac7c257",
   "metadata": {},
   "source": [
    "# step03_change_form\n",
    "- Before: section name \\t sentence\n",
    "- After : section name || sentence\n",
    "- to see the value in other annotation tools"
   ]
  },
  {
   "cell_type": "markdown",
   "id": "aefb118c",
   "metadata": {},
   "source": [
    "## heldout sets"
   ]
  },
  {
   "cell_type": "code",
   "execution_count": null,
   "id": "9310fe84",
   "metadata": {},
   "outputs": [],
   "source": [
    "target_pts = []\n",
    "pools = []\n",
    "train_pool = \"../preprocessing/01_data4finetune/pts_SNUH_visit_2011to2020_heldout_train.txt\"\n",
    "test_pool  = \"../preprocessing/01_data4finetune/pts_SNUH_visit_2011to2020_heldout_test.txt\"\n",
    "\n",
    "def target_ptnums(target_file):\n",
    "    target_pool = []\n",
    "    file = open(target_file, \"r\")\n",
    "    lines = file.readlines()\n",
    "    for l in range(len(lines)):\n",
    "        line = lines[l].strip(\"\\n\")\n",
    "        ptnum = line.split(\"/\")[-1].replace(\".txt\", \"\")\n",
    "        target_pool.append(ptnum)\n",
    "    file.close()\n",
    "    \n",
    "    return target_pool\n",
    "\n",
    "pools_train = target_ptnums(train_pool)\n",
    "pools_test  = target_ptnums(test_pool)\n",
    "pools = pools_train + pools_test\n",
    "print(\"len(pools): \", len(pools))\n",
    "print(pools[:10])"
   ]
  },
  {
   "cell_type": "markdown",
   "id": "def221fc",
   "metadata": {},
   "source": [
    "## Change forms"
   ]
  },
  {
   "cell_type": "code",
   "execution_count": null,
   "id": "4e49b164",
   "metadata": {
    "scrolled": true
   },
   "outputs": [],
   "source": [
    "import glob, os\n",
    "import shutil\n",
    "\n",
    "DEPARTMENTS = [\"내분비대사내과\", \"호흡기내과\", \"순환기내과\", \"소화기내과\", \"류마티스내과\", \"신장내과\", \"알레르기내과\", \"감염내과\"]\n",
    "\n",
    "datapool = \"./data/visits_2011to2020\"\n",
    "\n",
    "outdata = \"./data/03_pool\"\n",
    "if not os.path.exists(outdata):\n",
    "    os.makedirs(outdata)\n",
    "\n",
    "for d in range(len(DEPARTMENTS)):\n",
    "    department = DEPARTMENTS[d]\n",
    "    department_pool = datapool+\"/\"+str(department)\n",
    "    print(\"department: \", department)\n",
    "    \n",
    "    groups = glob.glob(department_pool+\"/*\")\n",
    "    groups.sort()\n",
    "    \n",
    "    outdata = \"./data/03_pool\"+\"/\"+str(department)\n",
    "    if not os.path.exists(outdata):\n",
    "        os.makedirs(outdata)\n",
    "\n",
    "    \n",
    "    for g in range(len(groups)):\n",
    "        if g%100==0:\n",
    "            print(g, \"/\", len(groups))\n",
    "        \n",
    "        ptfiles = glob.glob(groups[g]+\"/*.txt\")\n",
    "        ptfiles.sort()\n",
    "        \n",
    "        for f in range(len(ptfiles)):\n",
    "            ptnum = ptfiles[f].split(\"/\")[-1].replace(\".txt\", \"\")\n",
    "            outpath = outdata+\"/\"+str(ptnum)+\".txt\"\n",
    "            \n",
    "            if ptnum in pools_train or ptnum in pools_test:\n",
    "                file = open(ptfiles[f], \"r\")\n",
    "                lines = file.readlines()\n",
    "                file.close()\n",
    "                \n",
    "                records = []\n",
    "                for l in range(len(lines)):\n",
    "                    line = lines[l].strip(\"\\n\")\n",
    "                    if len(line.split(\"\\t\"))<2:\n",
    "                        records.append(\"\")\n",
    "                        continue\n",
    "                    section = line.split(\"\\t\")[0]\n",
    "                    content = line.split(\"\\t\")[1]\n",
    "                    new_line = section+\"    || \"+str(content)\n",
    "                    records.append(new_line)\n",
    "                \n",
    "                file = open(outpath, \"w\")\n",
    "                file.write(\"\\n\".join(records))\n",
    "                file.close()\n",
    "                \n",
    "print(\"Done\")\n",
    "    \n"
   ]
  },
  {
   "cell_type": "code",
   "execution_count": null,
   "id": "5ac82a56",
   "metadata": {},
   "outputs": [],
   "source": []
  }
 ],
 "metadata": {
  "kernelspec": {
   "display_name": "multibert",
   "language": "python",
   "name": "multibert"
  },
  "language_info": {
   "codemirror_mode": {
    "name": "ipython",
    "version": 3
   },
   "file_extension": ".py",
   "mimetype": "text/x-python",
   "name": "python",
   "nbconvert_exporter": "python",
   "pygments_lexer": "ipython3",
   "version": "3.8.18"
  }
 },
 "nbformat": 4,
 "nbformat_minor": 5
}
