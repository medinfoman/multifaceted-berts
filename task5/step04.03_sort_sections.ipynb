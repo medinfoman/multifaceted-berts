{
 "cells": [
  {
   "cell_type": "markdown",
   "id": "fbe19172",
   "metadata": {},
   "source": [
    "# sort sections\n",
    "- task 4: sections of original data are shuffled\n",
    "- task 5: Perform experiment after sorting sections"
   ]
  },
  {
   "cell_type": "markdown",
   "id": "86e5c8eb",
   "metadata": {},
   "source": [
    "## read section order"
   ]
  },
  {
   "cell_type": "code",
   "execution_count": null,
   "id": "bdb675e9",
   "metadata": {},
   "outputs": [],
   "source": [
    "def read_section_order(path):\n",
    "    section_order = {}\n",
    "    path_section_o = path\n",
    "    file = open(path_section_o, \"r\")\n",
    "    lines = file.readlines()\n",
    "    \n",
    "    for l in range(len(lines)):\n",
    "        line = lines[l].strip(\"\\n\")\n",
    "        if line==\"\":\n",
    "            continue\n",
    "        doctype = line.split(\"\\t\")[0]\n",
    "        section = line.split(\"\\t\")[1]\n",
    "        is_asmt = line.split(\"\\t\")[2]\n",
    "        \n",
    "        section_order[doctype+\"\\t\"+section] = l\n",
    "    return section_order\n",
    "\n",
    "section_order = read_section_order(\"./data/02_type_to_file_links/sections_visits_ordered_2011to2020.txt\")\n",
    "print(\"section_order: \", section_order)"
   ]
  },
  {
   "cell_type": "markdown",
   "id": "c8225b0a",
   "metadata": {},
   "source": [
    "## read samples"
   ]
  },
  {
   "cell_type": "code",
   "execution_count": null,
   "id": "dcd970d2",
   "metadata": {
    "scrolled": false
   },
   "outputs": [],
   "source": [
    "import glob, os\n",
    "\n",
    "def sort_samples(datapath = \"./data/05_sampled/train\", mode = \"train\"):\n",
    "    files = glob.glob(datapath+\"/*.txt\")\n",
    "    files.sort()\n",
    "\n",
    "    for f in range(len(files)):\n",
    "        file = open(files[f], \"r\")\n",
    "        lines = file.readlines()\n",
    "        file.close()\n",
    "\n",
    "        filename = files[f].split(\"/\")[-1]\n",
    "\n",
    "        pt_id = files[f].split(\"/\")[-1]\n",
    "    #     print(\"pt_id: \", pt_id)\n",
    "\n",
    "        dict_lines = {}\n",
    "\n",
    "        for l in range(len(lines)):\n",
    "            line = lines[l].strip(\"\\n\")\n",
    "    #         print(\"line: \", line)\n",
    "\n",
    "            docid = line.split(\"\\t\")[0]\n",
    "            rowid = line.split(\"\\t\")[1]\n",
    "            doctype = line.split(\"\\t\")[2]\n",
    "            section = line.split(\"\\t\")[3]\n",
    "            label = line.split(\"\\t\")[4]\n",
    "            content = line.split(\"\\t\")[5]\n",
    "\n",
    "            section_id = section_order[doctype+\"\\t\"+section]\n",
    "\n",
    "            zeros_s = \"\".join(['0']*(8-len(str(section_id))))\n",
    "            zeros_r = \"\".join(['0']*(8-len(str(rowid))))\n",
    "            key = str(docid)+\"\\t\"+str(zeros_s)+str(section_id)+\"\\t\"+zeros_r+str(rowid)\n",
    "\n",
    "            # values\n",
    "            # doctype \\t section \\t label \\t content\n",
    "            values = doctype+\"\\t\"+section +\"\\t\"+ label+\"\\t\"+content\n",
    "\n",
    "            dict_lines[key] = values\n",
    "        \n",
    "        # sort sections\n",
    "        dict_lines_sort = dict(sorted(dict_lines.items()))\n",
    "\n",
    "        outdata = []\n",
    "        sent_id = 0\n",
    "        docid_last = -1\n",
    "        for key in dict_lines_sort:\n",
    "            docid = key.split(\"\\t\")[0]\n",
    "            section_id = key.split(\"\\t\")[1]\n",
    "            rowid = key.split(\"\\t\")[2]\n",
    "            \n",
    "            if docid!=docid_last:\n",
    "                sent_id = 0\n",
    "            \n",
    "            values = dict_lines_sort[key].split(\"\\t\")\n",
    "            doctype = values[0]\n",
    "            section = values[1]\n",
    "            label   = values[2]\n",
    "            content = values[3]\n",
    "            \n",
    "            outdata.append(docid+\"\\t\"+str(sent_id)+\"\\t\"+doctype+\"\\t\"+section+\"\\t\"+label+\"\\t\"+content)\n",
    "            \n",
    "            sent_id = sent_id + 1\n",
    "            docid_last = docid\n",
    "            \n",
    "\n",
    "        outdir = \"./data/05_sampled_sorted/\"+str(mode)\n",
    "        if not os.path.exists(outdir):\n",
    "            os.makedirs(outdir)\n",
    "\n",
    "        file = open(outdir+\"/\"+str(filename), \"w\")\n",
    "        file.write(\"\\n\".join(outdata))\n",
    "        file.close()\n",
    "        \n",
    "    \n",
    "    print(\"Done\")\n",
    "\n",
    "\n",
    "sort_samples(datapath = \"./data/05_sampled/train\", mode = \"train\")\n",
    "sort_samples(datapath = \"./data/05_sampled/test\", mode = \"test\")\n",
    "\n"
   ]
  },
  {
   "cell_type": "code",
   "execution_count": null,
   "id": "a89906f2",
   "metadata": {},
   "outputs": [],
   "source": []
  },
  {
   "cell_type": "code",
   "execution_count": null,
   "id": "afb82f06",
   "metadata": {},
   "outputs": [],
   "source": []
  },
  {
   "cell_type": "code",
   "execution_count": null,
   "id": "d51960f6",
   "metadata": {},
   "outputs": [],
   "source": []
  }
 ],
 "metadata": {
  "kernelspec": {
   "display_name": "multibert",
   "language": "python",
   "name": "multibert"
  },
  "language_info": {
   "codemirror_mode": {
    "name": "ipython",
    "version": 3
   },
   "file_extension": ".py",
   "mimetype": "text/x-python",
   "name": "python",
   "nbconvert_exporter": "python",
   "pygments_lexer": "ipython3",
   "version": "3.8.18"
  }
 },
 "nbformat": 4,
 "nbformat_minor": 5
}
